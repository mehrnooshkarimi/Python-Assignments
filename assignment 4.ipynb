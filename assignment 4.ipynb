{
 "cells": [
  {
   "cell_type": "markdown",
   "id": "d4cc829c",
   "metadata": {},
   "source": [
    "1. Write a function that takes a string containing the alphabetic characters as the input argument and returns True if it is a Palindrome string. A Palindrome is a string whose letters are the same from beginning to end and vice versa. Note that uppercase and lowercase letters do not matter here, for example: a lowercase character can be thought of as a uppercase character.<br>\n",
    "For Example : madam"
   ]
  },
  {
   "cell_type": "code",
   "execution_count": null,
   "id": "4b129f5f",
   "metadata": {},
   "outputs": [],
   "source": []
  },
  {
   "cell_type": "markdown",
   "id": "8b3074c7",
   "metadata": {},
   "source": [
    "2. Write a function that returns the total number of vowels in an input string that contain alphabetic characters. Note that uppercase and lowercase letters do not matter here. For this problem, vowels A, E, I, O, U are considered."
   ]
  },
  {
   "cell_type": "code",
   "execution_count": null,
   "id": "cc67a930",
   "metadata": {},
   "outputs": [],
   "source": []
  },
  {
   "cell_type": "markdown",
   "id": "848b34ae",
   "metadata": {},
   "source": [
    "3. Write a function that takes a string and a character as input and returns the number of times the character is repeated in the string. Note that uppercase and lowercase letters do not matter here"
   ]
  },
  {
   "cell_type": "code",
   "execution_count": null,
   "id": "5c1ea8d6",
   "metadata": {},
   "outputs": [],
   "source": []
  },
  {
   "cell_type": "markdown",
   "id": "44469680",
   "metadata": {},
   "source": [
    "4. Write a function that takes a string and a character as input and returns the total number of words in the string that start with a given character.\n",
    "<br>For Example:<br>\n",
    "String = \"Ali is a doctor who works in the american hospital\"<br>\n",
    "character = a<br>\n",
    "output = 3  # ali, a, american"
   ]
  },
  {
   "cell_type": "code",
   "execution_count": null,
   "id": "905de2b8",
   "metadata": {},
   "outputs": [],
   "source": []
  },
  {
   "cell_type": "markdown",
   "id": "54d8c0b0",
   "metadata": {},
   "source": [
    "5. Write a function that takes a string containing alphabetic characters as the input argument and returns the most frequent character. Ignore whitespace i.e. do not count any whitespace as a character. Note that one lowercase character equals one uppercase character. "
   ]
  },
  {
   "cell_type": "code",
   "execution_count": null,
   "id": "9fcbabeb",
   "metadata": {},
   "outputs": [],
   "source": []
  },
  {
   "cell_type": "markdown",
   "id": "ca2915d7",
   "metadata": {},
   "source": [
    "6. Write a function that receives an input string and reverses the input string. Keep in mind that inversion must be done for each character individually. \n",
    "<br>For Example:<br>\n",
    "input string is = \"Hello Wolrd. I Am Learning Python\"<br>\n",
    "output= 'NOHTYp GNINRAEl Ma i .DRLOw OLLEh'<br>"
   ]
  },
  {
   "cell_type": "code",
   "execution_count": null,
   "id": "c686d93e",
   "metadata": {},
   "outputs": [],
   "source": []
  },
  {
   "cell_type": "markdown",
   "id": "f8f53d6e",
   "metadata": {},
   "source": [
    "7. Write a function that receives a string of words containing alphabetic characters separated by spaces and returns a string in which each word is inverted from the input string while maintaining the order of the words in the input string. The length of the input string must be equal to the length of the output string. For example: there should be no extra sequences or more space in your output string.\n",
    "<br>For Example :<br>\n",
    "Input string = \"I am learning Python\"<br>\n",
    "Output = 'I ma gninrael nohtyP'<br>\n"
   ]
  },
  {
   "cell_type": "code",
   "execution_count": null,
   "id": "a378ed4b",
   "metadata": {},
   "outputs": [],
   "source": []
  },
  {
   "cell_type": "markdown",
   "id": "e9cc62a3",
   "metadata": {},
   "source": [
    "8. Write a function that accepts an input string and removes all the leading whitespace of the string and\n",
    "returns it without using .strip().\n"
   ]
  },
  {
   "cell_type": "code",
   "execution_count": null,
   "id": "0328a054",
   "metadata": {},
   "outputs": [],
   "source": []
  },
  {
   "cell_type": "raw",
   "id": "e41db112",
   "metadata": {},
   "source": [
    "9. Write a function that takes two strings as input arguments and returns the following values:\n",
    "• Return zero if the two strings exactly match.\n",
    "• If two strings are the same length and do not match in only one character, return 1.\n",
    "• If two strings are not the same length or do not match in two or more characters, return 2.\n",
    "Uppercase letters are considered as lowercase letters. Here are some examples:\n",
    "\n",
    "String1        String2        output\n",
    "\n",
    "Python      \tJulia\t        2\n",
    "Hello World\t   hellooWorld      1\n",
    "door              dor       \t2 # NOT the same length\n",
    "Lion\t          lion          0"
   ]
  },
  {
   "cell_type": "code",
   "execution_count": null,
   "id": "355a59e8",
   "metadata": {},
   "outputs": [],
   "source": []
  },
  {
   "cell_type": "markdown",
   "id": "578092e8",
   "metadata": {},
   "source": [
    "10. Write a function that takes two strings as parameters, and returns True if the two strings have the same family, otherwise returns False. Two strings are family if one string can be created exactly by rearranging the characters in the other string. For example, the \"Orchestra\" and \"Carthorse\" strings are family because each can be created exactly by rearranging the characters in the other. Note that capitalization is not important here."
   ]
  },
  {
   "cell_type": "code",
   "execution_count": null,
   "id": "79bcb41e",
   "metadata": {},
   "outputs": [],
   "source": []
  },
  {
   "cell_type": "code",
   "execution_count": null,
   "id": "45267b78",
   "metadata": {},
   "outputs": [],
   "source": []
  }
 ],
 "metadata": {
  "kernelspec": {
   "display_name": "Python 3.8 (tensorflow)",
   "language": "python",
   "name": "tensorflow"
  },
  "language_info": {
   "codemirror_mode": {
    "name": "ipython",
    "version": 3
   },
   "file_extension": ".py",
   "mimetype": "text/x-python",
   "name": "python",
   "nbconvert_exporter": "python",
   "pygments_lexer": "ipython3",
   "version": "3.8.10"
  }
 },
 "nbformat": 4,
 "nbformat_minor": 5
}
