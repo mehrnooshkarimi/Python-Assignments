{
 "cells": [
  {
   "cell_type": "code",
   "execution_count": null,
   "id": "d24be257",
   "metadata": {},
   "outputs": [],
   "source": [
    "# Arethmatic operators\n",
    "\n",
    "print(15//4)\n",
    "\n",
    "print(24 % 5)"
   ]
  },
  {
   "cell_type": "code",
   "execution_count": null,
   "id": "a4a18b7b",
   "metadata": {},
   "outputs": [],
   "source": [
    "\n",
    "a = 1\n",
    "b = 5\n",
    "c = 15\n",
    "d = 5\n",
    "e = 0\n",
    "\n",
    "e = (a + b) * c / d\n",
    "print(e)\n",
    "\n",
    "\n",
    "x = 4\n",
    "print(x == 3*2 )\n",
    "\n",
    "x = 6\n",
    "print(4 * 2 - 2 != x)"
   ]
  },
  {
   "cell_type": "code",
   "execution_count": null,
   "id": "ed577d06",
   "metadata": {},
   "outputs": [],
   "source": [
    "#logical operators\n",
    "## Try to underestand the answers\n",
    "\n",
    "print(not not ((5 >= 4) and (7 > 6.9)))\n",
    "\n",
    "print((3 > 7.6) and (3.2 != 5.5))\n",
    "\n",
    "print( (3 > 7.6) or (3.2 != 5.5))\n",
    "\n",
    "print(True and (2 <= 7.8))\n",
    "\n",
    "x == 1\n",
    "print(not x)"
   ]
  },
  {
   "cell_type": "code",
   "execution_count": null,
   "id": "bbbcecfc",
   "metadata": {},
   "outputs": [],
   "source": [
    "my_list = ['giraffe', 'dog', 34.3, 'cat', 52+2j, [1, 2+3j, 5**2] ]\n",
    "\n",
    "print(my_list[-1])   # learn how negetive indexing works in python specially my_list[-1]\n",
    "print(my_list[-3])"
   ]
  },
  {
   "cell_type": "code",
   "execution_count": null,
   "id": "b061d785",
   "metadata": {},
   "outputs": [],
   "source": [
    "x = \"Fun with Python\"\n",
    "print(\"fun\" in x)\n",
    " "
   ]
  },
  {
   "cell_type": "code",
   "execution_count": null,
   "id": "3a79233e",
   "metadata": {},
   "outputs": [],
   "source": [
    "a = 10\n",
    "b = 20\n",
    "c = a + b\n",
    "\n",
    "#Normal string concatenation\n",
    "print(\"sum of\", a , \"and\" , b , \"is\" , c) \n",
    "\n",
    "#convert variable into str\n",
    "print(\"sum of \" + str(a) + \" and \" + str(b) + \" is \" + str(c)) \n",
    "\n",
    "# change variable value \n",
    "print(\"a is\",b,\"b is\", a) \n",
    "\n"
   ]
  },
  {
   "cell_type": "code",
   "execution_count": null,
   "id": "ad7dfc53",
   "metadata": {},
   "outputs": [],
   "source": [
    "if \"Hel\" in \"hello\" or 6 % 2:   # underestand the condition when we say 6%2\n",
    "    print('true')\n",
    "else:\n",
    "    print('false')"
   ]
  },
  {
   "cell_type": "code",
   "execution_count": null,
   "id": "d31ecbb8",
   "metadata": {},
   "outputs": [],
   "source": [
    "my_list = [ 'dog', 'cat', 'giraffe', 'cow']  # pay attention to the difference between searching in a string and in a list\n",
    "if 'ow' in my_list:\n",
    "    print('true')\n",
    "else:\n",
    "    print('false')\n",
    "\n"
   ]
  },
  {
   "cell_type": "markdown",
   "id": "a27efcc0",
   "metadata": {},
   "source": [
    "1. compute the average of the following list\n",
    "- lst = [15, 9, 20, 41, 35, 20, 62, 42.5]\n"
   ]
  },
  {
   "cell_type": "code",
   "execution_count": null,
   "id": "eac4d272",
   "metadata": {},
   "outputs": [],
   "source": []
  },
  {
   "cell_type": "markdown",
   "id": "0c480c27",
   "metadata": {},
   "source": [
    "2. write a program that asks the user for a positive integer between 1 and 7 and also prints the day of week corresponding to that number in all capital letters. For example when the user enters 1, it will print out MONDAY, or if the user enters 3, it will print out WEDNESDAY \n"
   ]
  },
  {
   "cell_type": "code",
   "execution_count": null,
   "id": "8e2a87e7",
   "metadata": {},
   "outputs": [],
   "source": []
  },
  {
   "cell_type": "markdown",
   "id": "45484425",
   "metadata": {},
   "source": [
    "3. Write a program that asks the user to enter an integer number.\n",
    "- If the input number is 12, your program should print \"twelve\"\n",
    "- If the input number is 60, your program should print \"sixty\"\n",
    "- If the input number is 5, your program should print \"five\"\n",
    "- Otherwise the program prints \"other\""
   ]
  },
  {
   "cell_type": "code",
   "execution_count": null,
   "id": "0fddc8f1",
   "metadata": {},
   "outputs": [],
   "source": []
  },
  {
   "cell_type": "markdown",
   "id": "12e2a64f",
   "metadata": {},
   "source": [
    "4. Write a program that asks the user to enter their age (for example: 18) and print the output exactly like the following format:\n",
    "    \n",
    "- When the age is less than or equal to 0, print \"UNBORN\"\n",
    "- when the age is more than 0, less or equal than 150, print \"ALIVE\"\n",
    "- when the age is more than 150, print \"Fossile\""
   ]
  },
  {
   "cell_type": "code",
   "execution_count": null,
   "id": "23c45618",
   "metadata": {},
   "outputs": [],
   "source": []
  },
  {
   "cell_type": "markdown",
   "id": "8ded96ff",
   "metadata": {},
   "source": [
    "5. Write a program that asks the user to enter an integer number that represents the total number of hours the user has worked per week. Your program should calculate and print the total amount of money the user earns per week.\n",
    "- If the user enters a number less than 0 or more than 168, your program must print INVALID.\n",
    "- you earn 8 dollars per hour in the first 40 hours.\n",
    "- you earn 9 dollars per hour for working overtime between 41 to 50. \n",
    "- you earn 10 dollars for working overtime more than 50 hours.\n",
    "\n",
    "- Example1: if the user enters 41, the program should print \"YOU MADE 329 DOLLARS THIS WEEK\"\n",
    "- Example2: if the user enters 70, the program should print \"YOU MADE 610  DOLLARS THIS WEEK\"\n"
   ]
  },
  {
   "cell_type": "code",
   "execution_count": null,
   "id": "c9fb20b6",
   "metadata": {},
   "outputs": [],
   "source": []
  },
  {
   "cell_type": "markdown",
   "id": "bf19809f",
   "metadata": {},
   "source": [
    "6. write a program that convert a given integer to days, hours, minutes and seconds\n",
    "- Example: input: 369121517 output: 1 days 12 hours 0 minutes 0 seconds"
   ]
  },
  {
   "cell_type": "code",
   "execution_count": null,
   "id": "99ba2e46",
   "metadata": {},
   "outputs": [],
   "source": []
  },
  {
   "cell_type": "markdown",
   "id": "57e8fb22",
   "metadata": {},
   "source": [
    "7. write a program that computes the factorial of an integer number  #(with While Loop)\n",
    "- Example: input:5 , output:120"
   ]
  },
  {
   "cell_type": "code",
   "execution_count": null,
   "id": "c7b32345",
   "metadata": {},
   "outputs": [],
   "source": []
  },
  {
   "cell_type": "markdown",
   "id": "f7ae1b49",
   "metadata": {},
   "source": [
    "8. Write a program that uses the while loop to print the sum of all the numbers between 1 and 1200 that their remainder by 3 is one."
   ]
  },
  {
   "cell_type": "code",
   "execution_count": null,
   "id": "7c6cfc2c",
   "metadata": {},
   "outputs": [],
   "source": []
  },
  {
   "cell_type": "markdown",
   "id": "440357ed",
   "metadata": {},
   "source": [
    "9. Write a program which repeatedly reads numbers until the user enters\n",
    "“done”. Once “done” is entered, print out the total, count, and average of the\n",
    "numbers. "
   ]
  },
  {
   "cell_type": "code",
   "execution_count": null,
   "id": "41e2b9e3",
   "metadata": {},
   "outputs": [],
   "source": []
  }
 ],
 "metadata": {
  "kernelspec": {
   "display_name": "Python 3.8 (tensorflow)",
   "language": "python",
   "name": "tensorflow"
  },
  "language_info": {
   "codemirror_mode": {
    "name": "ipython",
    "version": 3
   },
   "file_extension": ".py",
   "mimetype": "text/x-python",
   "name": "python",
   "nbconvert_exporter": "python",
   "pygments_lexer": "ipython3",
   "version": "3.8.10"
  }
 },
 "nbformat": 4,
 "nbformat_minor": 5
}
