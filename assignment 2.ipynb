{
 "cells": [
  {
   "cell_type": "code",
   "execution_count": null,
   "id": "866c9523",
   "metadata": {},
   "outputs": [],
   "source": [
    "m = 0\n",
    "x = 1\n",
    "while x < 4:\n",
    "    y = 1\n",
    "    while y < 5:   \n",
    "        m = m + y\n",
    "        y = y + 1\n",
    "        if x + y == 5:\n",
    "            break\n",
    "    x = x + 1\n",
    "print (m)"
   ]
  },
  {
   "cell_type": "code",
   "execution_count": null,
   "id": "8253942a",
   "metadata": {},
   "outputs": [],
   "source": [
    "m = 0\n",
    "x = 10\n",
    "while x > 8:\n",
    "    for y in range(1,3):\n",
    "        m = m + 1\n",
    "    x = x - 1\n",
    "print(m)\n"
   ]
  },
  {
   "cell_type": "code",
   "execution_count": null,
   "id": "5704d80a",
   "metadata": {},
   "outputs": [],
   "source": [
    "m = 0\n",
    "my_str_1 = \"university\"\n",
    "my_str_2 = \"mississipy\"\n",
    "for char_1 in my_str_1:\n",
    "    for char_2 in my_str_2:\n",
    "        if char_1 == char_2:\n",
    "            m = m + 1\n",
    "print(m)"
   ]
  },
  {
   "cell_type": "code",
   "execution_count": null,
   "id": "7495c7f4",
   "metadata": {},
   "outputs": [],
   "source": []
  },
  {
   "cell_type": "markdown",
   "id": "f871c4a9",
   "metadata": {},
   "source": [
    "1. Write a program that finds the Fibonacci series for a given number.\n",
    "<br> A Fibonacci sequence is the integer sequence of 0, 1, 1, 2, 3, 5, 8.... The first two terms are 0 and 1. All other terms are obtained by adding the preceding two terms. This means to say the nth term is the sum of (n-1)th and (n-2)th term\n",
    "<br> for example the Fibonacci sequence up to 10 is: 0 1 1 2 3 5 8 13 21 34\n"
   ]
  },
  {
   "cell_type": "code",
   "execution_count": null,
   "id": "8fb29cc6",
   "metadata": {},
   "outputs": [],
   "source": []
  },
  {
   "cell_type": "markdown",
   "id": "4b0decfe",
   "metadata": {},
   "source": [
    "2. write a program to compute the prime factors of a given number.\n",
    "+ for example if you enter 10, it prints out 2 and 5 "
   ]
  },
  {
   "cell_type": "code",
   "execution_count": null,
   "id": "e95bec97",
   "metadata": {},
   "outputs": [],
   "source": []
  },
  {
   "cell_type": "raw",
   "id": "31a8fd98",
   "metadata": {},
   "source": [
    "3. Write a Python program to construct the following pattern:\n",
    "\n",
    " * \n",
    " * * \n",
    " * * * \n",
    " * * * * \n",
    " * * * * * \n",
    " * * * * \n",
    " * * * \n",
    " * * \n",
    " *"
   ]
  },
  {
   "cell_type": "code",
   "execution_count": null,
   "id": "7c95eb4e",
   "metadata": {},
   "outputs": [],
   "source": []
  },
  {
   "cell_type": "raw",
   "id": "2ffab903",
   "metadata": {},
   "source": [
    "4. Write a Python program to construct the following pattern:\n",
    "\n",
    "1 2 3 4 5 \n",
    "1 2 3 4 \n",
    "1 2 3 \n",
    "1 2 \n",
    "1 "
   ]
  },
  {
   "cell_type": "code",
   "execution_count": null,
   "id": "53fd2e2e",
   "metadata": {},
   "outputs": [],
   "source": []
  },
  {
   "cell_type": "raw",
   "id": "4d44c9d8",
   "metadata": {},
   "source": [
    "5. Write a Python program to construct the following pattern:\n",
    "\n",
    "\n",
    "     *\n",
    "    * *\n",
    "   * * *\n",
    "  * * * *\n",
    " * * * * *\n",
    "* * * * * *"
   ]
  },
  {
   "cell_type": "code",
   "execution_count": null,
   "id": "69a832af",
   "metadata": {},
   "outputs": [],
   "source": []
  },
  {
   "cell_type": "markdown",
   "id": "9293f427",
   "metadata": {},
   "source": [
    "6. Write a program that finds the maximum number in this list:\n",
    "+ my_list = [1, 5, 8, 9, 11, 14, 19, 12]"
   ]
  },
  {
   "cell_type": "code",
   "execution_count": null,
   "id": "5061d0be",
   "metadata": {},
   "outputs": [],
   "source": []
  },
  {
   "cell_type": "raw",
   "id": "261e5b35",
   "metadata": {},
   "source": [
    "7. write a program to repeat each item in the list 6 times:\n",
    "\n",
    "My_list = [\"hello\", \"world\", \"Aug\", 2021]\n",
    "\n",
    "The output should be like this:\n",
    "\n",
    "hello hello hello hello hello hello \n",
    "world world world world world world \n",
    "Aug Aug Aug Aug Aug Aug \n",
    "2021 2021 2021 2021 2021 2021 "
   ]
  },
  {
   "cell_type": "code",
   "execution_count": null,
   "id": "94f6a97a",
   "metadata": {},
   "outputs": [],
   "source": []
  },
  {
   "cell_type": "raw",
   "id": "4410cefd",
   "metadata": {},
   "source": [
    "8. write a program that multiply the items of list_1 to the items of list_2 when the two items are not equal.\n",
    "for example if the list_1 and list_2 were like this:\n",
    "List_1 = [3, 9, 7]\n",
    "List_2 = [2, 3, 9]\n",
    "\n",
    "The output should be like this:\n",
    "\n",
    "3 * 2 =  6\n",
    "3 * 9 =  27\n",
    "9 * 2 =  18\n",
    "9 * 3 =  27\n",
    "7 * 2 =  14\n",
    "7 * 3 =  21\n",
    "7 * 9 =  63\n",
    "\n",
    "you should use these two lists for your assignments:\n",
    "List_1 = [2, 5, 6, 7, 9]\n",
    "List_2 = [2, 3, 5, 7, 6]\n"
   ]
  },
  {
   "cell_type": "code",
   "execution_count": null,
   "id": "91827fe7",
   "metadata": {},
   "outputs": [],
   "source": []
  }
 ],
 "metadata": {
  "kernelspec": {
   "display_name": "Python 3.8 (tensorflow)",
   "language": "python",
   "name": "tensorflow"
  },
  "language_info": {
   "codemirror_mode": {
    "name": "ipython",
    "version": 3
   },
   "file_extension": ".py",
   "mimetype": "text/x-python",
   "name": "python",
   "nbconvert_exporter": "python",
   "pygments_lexer": "ipython3",
   "version": "3.8.10"
  }
 },
 "nbformat": 4,
 "nbformat_minor": 5
}
